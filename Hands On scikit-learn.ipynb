{
 "metadata": {
  "name": "",
  "signature": "sha256:6d3a6defa2991c0792d3bbed7abf93ea692d44b23c52f47ba6475939a5dd14fe"
 },
 "nbformat": 3,
 "nbformat_minor": 0,
 "worksheets": [
  {
   "cells": [
    {
     "cell_type": "heading",
     "level": 1,
     "metadata": {},
     "source": [
      "Hands on scikit-learn"
     ]
    },
    {
     "cell_type": "markdown",
     "metadata": {},
     "source": [
      "Ce Hands-On est une adaptation en fran\u00e7ais des pr\u00e9sentations suivantes :\n",
      "\n",
      "- [PyCon 2014 scikit-learn tutorial](https://github.com/jakevdp/sklearn_pycon2014) par Jake Vanderplas\n",
      "- [Tutorial on scikit-learn and IPython for parallel machine learning](https://github.com/ogrisel/parallel_ml_tutorial) par Olivier Grisel\n",
      "    "
     ]
    },
    {
     "cell_type": "heading",
     "level": 2,
     "metadata": {},
     "source": [
      "Introduction"
     ]
    },
    {
     "cell_type": "markdown",
     "metadata": {},
     "source": [
      "Ceci est un Notebook IPython:\n",
      "\n",
      "IPython est un shell am\u00e9limor\u00e9 pour Python.\n",
      "Les Notebooks d'IPython sont des environnements de calcul interactif en ligne o\u00f9 vous pouvez combiner l'ex\u00e9cution de code, le texte, les math\u00e9matiques (LaTeX), les graphes et les m\u00e9dias riches en un seul document.\n",
      "\n",
      "Pour plus d'info lire cet excellent article : http://blog.xebia.fr/2014/02/05/explorer-vos-donnees-avec-le-notebook-dipython/\n",
      "\n",
      "* Pour executer le code d'une cellule : `shift` + `return`\n",
      "* Code compl\u00e9tion avec `tab`\n",
      "* Faites suivre le nom d'une classe, d'un module ou d'une m\u00e9thode par `?` et executez le code pour obtenir l'aide en ligne\n",
      "\n",
      "Pour ce Hands-On vous aurez besoin de:\n",
      "\n",
      "- Python version 2.6-2.7\n",
      "- `numpy` version 1.5+: http://www.numpy.org/\n",
      "- `scipy` version 0.9+: http://www.scipy.org/\n",
      "- `matplotlib` version 1.0+: http://matplotlib.org/\n",
      "- `pandas` version 0.12+ : http://pandas.pydata.org/\n",
      "- `scikit-learn` version 0.12+: http://scikit-learn.org\n",
      "\n",
      "Executer le code suivant pour v\u00e9rifier les versions des packages install\u00e9s sur votre machine."
     ]
    },
    {
     "cell_type": "code",
     "collapsed": false,
     "input": [
      "import numpy\n",
      "print 'numpy:', numpy.__version__\n",
      "\n",
      "import scipy\n",
      "print 'scipy:', scipy.__version__\n",
      "\n",
      "import matplotlib\n",
      "print 'matplotlib:', matplotlib.__version__\n",
      "\n",
      "import pandas\n",
      "print 'pandas:', pandas.__version__\n",
      "\n",
      "import sklearn\n",
      "print 'scikit-learn:', sklearn.__version__"
     ],
     "language": "python",
     "metadata": {},
     "outputs": []
    },
    {
     "cell_type": "heading",
     "level": 2,
     "metadata": {},
     "source": [
      "Basics"
     ]
    },
    {
     "cell_type": "heading",
     "level": 3,
     "metadata": {},
     "source": [
      "Machine Learning"
     ]
    },
    {
     "cell_type": "markdown",
     "metadata": {},
     "source": [
      "Le Machine Learning est branche de l'intelligence artificielle qui s'occupe de la construction et l'\u00e9tude de syst\u00e8mes qui apprennent \u00e0 partir de donn\u00e9es.\n",
      "\n",
      "Les algorithmes d'apprentissage peuvent \u00eatre s\u00e9par\u00e9 en plusieurs cat\u00e9gories :\n",
      "\n",
      "**L'apprentissage supervis\u00e9** : on cherche \u00e0 produire automatiquement des r\u00e8gles \u00e0 partir d'une base de donn\u00e9es d'apprentissage contenant des exemples (observations + le \"label\" que l'on voudra pr\u00e9dire par la suite)\n",
      "* Regression : d\u00e9terminer la relation d'une variable par rapport \u00e0 une ou plusieurs autres (e.g. le prix d'un appartement en fonctions de ses caract\u00e9ristiques)\n",
      "* Classification : identifier \u00e0 quel ensemble de cat\u00e9gories une nouvelle observation correspond (e.g. spam/non spam)\n",
      "\n",
      "**L'apprentissage non-supervis\u00e9** : permettre une extraction de connaissance organis\u00e9e \u00e0 partir de donn\u00e9es\n",
      "* Clusterisation : diviser un ensemble de donn\u00e9es en diff\u00e9rents groupes homog\u00e8nes\n",
      "\n",
      "Prenons deux exemples tr\u00e8s simples:"
     ]
    },
    {
     "cell_type": "heading",
     "level": 4,
     "metadata": {},
     "source": [
      "Exemples"
     ]
    },
    {
     "cell_type": "markdown",
     "metadata": {},
     "source": [
      "Le premier est un exemple de classification. \n",
      "Etant donn\u00e9 un ensemble de donn\u00e9es \u00e0 deux dimensions, colori\u00e9es en fonction de leur appartenance \u00e0 une cat\u00e9gorie, un algorithme de classifiaction va, par exemple, chercher \u00e0 tracer une fronti\u00e8re entre les deux ensembles de points."
     ]
    },
    {
     "cell_type": "markdown",
     "metadata": {},
     "source": [
      "<img src=\"files/images/logistic_regression.png\">"
     ]
    },
    {
     "cell_type": "markdown",
     "metadata": {},
     "source": [
      "Cette exemple peut para\u00eetre trivial mais il illustre un concept important. En tra\u00e7ant une ligne entre les deux ensembles de points, on est capable de pr\u00e9dire la couleur d'un nouveau point en fonction de sa position par rapport \u00e0 cette ligne \n",
      "(au dessus: bleu, en dessous: rouge)"
     ]
    },
    {
     "cell_type": "markdown",
     "metadata": {},
     "source": [
      "Un exemple de regression :"
     ]
    },
    {
     "cell_type": "markdown",
     "metadata": {},
     "source": [
      "<img src=\"files/images/linear_regression.png\">"
     ]
    },
    {
     "cell_type": "markdown",
     "metadata": {},
     "source": [
      "Le mod\u00e8le (la ligne trac\u00e9e) a \u00e9t\u00e9 appris \u00e0 partir des donn\u00e9es d'entrainement, et peut \u00eatre utilis\u00e9 pour pr\u00e9dire le r\u00e9sultat des donn\u00e9es de test: ici, nous pourrions avoir une valeur de x, et le mod\u00e8le permettrait de pr\u00e9dire la valeur de y."
     ]
    },
    {
     "cell_type": "markdown",
     "metadata": {},
     "source": [
      "Voici un schema r\u00e9sumant les principes d'utilisation d'un algorithme d'apprentissage supervis\u00e9 :"
     ]
    },
    {
     "cell_type": "markdown",
     "metadata": {},
     "source": [
      "<img src=\"files/images/supervised.png\">"
     ]
    },
    {
     "cell_type": "markdown",
     "metadata": {},
     "source": [
      "Quelques outils:\n",
      "\n",
      "* R http://www.r-project.org\n",
      "* SciKit-learn http://scikit-learn.org\n",
      "* Vowpal wabbit http://hunch.net/~vw/\n",
      "* Apache Mahout https://mahout.apache.org\n",
      "* Apache Spark MLlib https://spark.apache.org/docs/1.0.0/mllib-guide.html\n",
      "* Weka http://www.cs.waikato.ac.nz/ml/weka/\n",
      "* Julia http://julialang.org/"
     ]
    },
    {
     "cell_type": "heading",
     "level": 4,
     "metadata": {},
     "source": [
      "Pourquoi SciKit-learn?"
     ]
    },
    {
     "cell_type": "markdown",
     "metadata": {},
     "source": [
      "* Excellente documentation : http://scikit-learn.org/\n",
      "* Algorithmes impl\u00e9ment\u00e9s par des experts\n",
      "* La plupart des algorithmes standards sont impl\u00e9ment\u00e9s\n",
      "* python et pydata\n",
      "* Une API consistante pour tous les algorithmes\n",
      "* Outil populaire chez les Data scientists"
     ]
    },
    {
     "cell_type": "heading",
     "level": 3,
     "metadata": {},
     "source": [
      "Scikit-learn"
     ]
    },
    {
     "cell_type": "markdown",
     "metadata": {},
     "source": [
      "La plupart des algorithmes de scikit-learn utilisent des jeux de donn\u00e9es sous forme de tableaux (ou de matrices) \u00e0 deux dimensions. \n",
      "Ces tableaux vont \u00eatre soit du type ``numpy.ndarray`` de la librairie python numpy que nous verrons par la suite ou de type ``scipy.sparse`` de la librairie python scipy (que l'on \u00e9tudiera pas dans ce hands-on).\n",
      "La dimension de cette matrice sera `[n_samples, n_features]`\n",
      "\n",
      "- **n_samples:**   Le nombre d'\u00e9chantillions de donn\u00e9es ou d'observations.\n",
      "  Un \u00e9chantillon peut repr\u00e9senter un document, une image, un son, une vid\u00e9o, un objet, une ligne dans une base de donn\u00e9es ou un fichier csv...\n",
      "- **n_features:**  Le nombre de caract\u00e9ristiques qui d\u00e9crivent une observation de mani\u00e8re quantitative. Ces donn\u00e9es doivent \u00eatre des nombres (r\u00e9els ou entiers).\n",
      "\n",
      "\n",
      "Dans le cadre d'un apprentissage supervis\u00e9, on represente les donn\u00e9es sous la forme d'une **feature matrix** et d'un **label vector**\n",
      "\n",
      "$$\n",
      "{\\rm feature~matrix:~~~} {\\bf X}~=~\\left[\n",
      "\\begin{matrix}\n",
      "x_{11} & x_{12} & \\cdots & x_{1D}\\\\\n",
      "x_{21} & x_{22} & \\cdots & x_{2D}\\\\\n",
      "x_{31} & x_{32} & \\cdots & x_{3D}\\\\\n",
      "\\vdots & \\vdots & \\ddots & \\vdots\\\\\n",
      "\\vdots & \\vdots & \\ddots & \\vdots\\\\\n",
      "x_{N1} & x_{N2} & \\cdots & x_{ND}\\\\\n",
      "\\end{matrix}\n",
      "\\right]\n",
      "$$\n",
      "\n",
      "$$\n",
      "{\\rm label~vector:~~~} {\\bf y}~=~ \\left[\n",
      "\\begin{matrix}\n",
      "y_1\\\\\n",
      "y_2\\\\\n",
      "y_3\\\\\n",
      "\\vdots\\\\\n",
      "y_N\\\\\n",
      "\\end{matrix}\n",
      "\\right]\n",
      "$$\n",
      "\n",
      "Ici il y a $N$ samples de $D$ features."
     ]
    },
    {
     "cell_type": "heading",
     "level": 3,
     "metadata": {},
     "source": [
      "Scikit-learn's interface"
     ]
    },
    {
     "cell_type": "markdown",
     "metadata": {},
     "source": [
      "La plupart des op\u00e9rations vont \u00eatre r\u00e9alis\u00e9e \u00e0 l'aide d'objets de type estimator.\n",
      "\n",
      "Un algorithme de machine learning, correspond \u00e0 une classe de type estimator:"
     ]
    },
    {
     "cell_type": "code",
     "collapsed": false,
     "input": [
      "from sklearn.linear_model import LinearRegression\n",
      "model = LinearRegression(normalize=True)\n",
      "print model"
     ],
     "language": "python",
     "metadata": {},
     "outputs": []
    },
    {
     "cell_type": "markdown",
     "metadata": {},
     "source": [
      "Scikit-learn s'efforce d'avoir une interface uniforme pour tous les algorithmes. \n",
      "\n",
      "Etant donn\u00e9 un objet *estimator* `model`, vous pouvez utiliser les m\u00e9thodes suivantes:\n",
      "\n",
      "- *Tous les estimators*\n",
      "  + `model.fit()` : lance le mechanisme d'apprentissage. \n",
      "      + `model.fit(X, y)` pour les algorithmes supervis\u00e9s \n",
      "          `X` les observations d'entrainement, `y` leurs labels.\n",
      "      + `model.fit(X)` pour les algorithmes non-supervis\u00e9s \n",
      "- *Les estimators supervis\u00e9s*\n",
      "  + `model.predict(X_new)` : pr\u00e9dit et retourne les labels d'un nouveau jeu de donn\u00e9es `X_new`.\n",
      "  + `model.predict_proba(X_new)` : pour les algorithmes de classification, pr\u00e9dit et retourne les probabilit\u00e9s d'appartenance \u00e0 une classe d'un nouveau jeu de donn\u00e9es `X_new`.\n",
      "  + `model.score(X_test, y_test)` : Retourne un score de performance du mod\u00e8le entre 0 (mauvais) et 1 (id\u00e9al mais suspicieux).\n",
      "- *Les estimators non-supervis\u00e9s*\n",
      "  + `model.transform(X_new)` : transforme un jeu de donn\u00e9es selon le mod\u00e8le.\n",
      "  + `model.fit_transform(X)` : apprend ses param\u00e8tres grace \u00e0 un jeu de donn\u00e9es et transforme celui-ci."
     ]
    },
    {
     "cell_type": "markdown",
     "metadata": {},
     "source": [
      "<img src=\"files/images/supervised_scikit_learn.png\">"
     ]
    },
    {
     "cell_type": "heading",
     "level": 4,
     "metadata": {},
     "source": [
      "Comment choisir son algorithme?"
     ]
    },
    {
     "cell_type": "markdown",
     "metadata": {},
     "source": [
      "<a href=\"http://scikit-learn.org/dev/tutorial/machine_learning_map/index.html\"><img src=\"http://scikit-learn.org/dev/_static/ml_map.png\" width=100%></a>\n",
      "\n",
      "Original source on the [scikit-learn website](http://scikit-learn.org/stable/tutorial/machine_learning_map/)"
     ]
    },
    {
     "cell_type": "markdown",
     "metadata": {},
     "source": [
      "Arbre de d\u00e9cision cr\u00e9e par [Andreas Mueller](https://github.com/amueller)!\n",
      "\n",
      "Cliquer sur l'image pour vous rendre sur la version interactive du graphe"
     ]
    },
    {
     "cell_type": "heading",
     "level": 3,
     "metadata": {},
     "source": [
      "Numpy"
     ]
    },
    {
     "cell_type": "markdown",
     "metadata": {},
     "source": [
      "Savoir manipuler des tableaux numpy est n\u00e9cessaire pour pouvoir faire du machine learning (ou, en fait, n'importe quel type de calcul scientifique) en python. \n",
      "Nous allons passer rapidement en revue quelques-unes des caract\u00e9ristiques les plus importantes de cette librairie."
     ]
    },
    {
     "cell_type": "code",
     "collapsed": false,
     "input": [
      "import numpy as np"
     ],
     "language": "python",
     "metadata": {},
     "outputs": []
    },
    {
     "cell_type": "heading",
     "level": 5,
     "metadata": {},
     "source": [
      "Cr\u00e9ation d'array numpy"
     ]
    },
    {
     "cell_type": "markdown",
     "metadata": {},
     "source": [
      "2 x 3 array"
     ]
    },
    {
     "cell_type": "code",
     "collapsed": false,
     "input": [
      "a = np.array([[1, 2, 3], [4, 5, 6]])\n",
      "print a"
     ],
     "language": "python",
     "metadata": {},
     "outputs": []
    },
    {
     "cell_type": "markdown",
     "metadata": {},
     "source": [
      "array \u00e0 1 Dimension"
     ]
    },
    {
     "cell_type": "code",
     "collapsed": false,
     "input": [
      "b = np.array([1.0, 2.0, 3.0])\n",
      "print b"
     ],
     "language": "python",
     "metadata": {},
     "outputs": []
    },
    {
     "cell_type": "markdown",
     "metadata": {},
     "source": [
      "array \u00e0 1 Dimension rempli de zeros"
     ]
    },
    {
     "cell_type": "code",
     "collapsed": false,
     "input": [
      "zeros = np.zeros(5) \n",
      "print zeros"
     ],
     "language": "python",
     "metadata": {},
     "outputs": []
    },
    {
     "cell_type": "markdown",
     "metadata": {},
     "source": [
      "3 x 4 array rempli de 1 de type int32"
     ]
    },
    {
     "cell_type": "code",
     "collapsed": false,
     "input": [
      "ones = np.ones(shape=(3, 4), dtype=np.int32)\n",
      "print ones"
     ],
     "language": "python",
     "metadata": {},
     "outputs": []
    },
    {
     "cell_type": "markdown",
     "metadata": {},
     "source": [
      "3 x 4 array rempli d'entier compris entre 0 (inclus) et 10 (exclus)"
     ]
    },
    {
     "cell_type": "code",
     "collapsed": false,
     "input": [
      "random = np.random.randint(0, 10, (3, 4)) \n",
      "print random"
     ],
     "language": "python",
     "metadata": {},
     "outputs": []
    },
    {
     "cell_type": "heading",
     "level": 5,
     "metadata": {},
     "source": [
      "Obtenir des infos sur un array numpy"
     ]
    },
    {
     "cell_type": "markdown",
     "metadata": {},
     "source": [
      "shape pour obtenir les dimensions de votre array"
     ]
    },
    {
     "cell_type": "code",
     "collapsed": false,
     "input": [
      "print a.shape\n",
      "print b.shape\n",
      "print zeros.shape\n",
      "print ones.shape\n",
      "print random.shape"
     ],
     "language": "python",
     "metadata": {},
     "outputs": []
    },
    {
     "cell_type": "markdown",
     "metadata": {},
     "source": [
      "dtype pour obtenir le type des \u00e9l\u00e9ments de l'array"
     ]
    },
    {
     "cell_type": "code",
     "collapsed": false,
     "input": [
      "print a.dtype\n",
      "print b.dtype"
     ],
     "language": "python",
     "metadata": {},
     "outputs": []
    },
    {
     "cell_type": "heading",
     "level": 5,
     "metadata": {},
     "source": [
      "Acc\u00e9der aux \u00e9l\u00e9ments d'un array"
     ]
    },
    {
     "cell_type": "markdown",
     "metadata": {},
     "source": [
      "pour rappel"
     ]
    },
    {
     "cell_type": "code",
     "collapsed": false,
     "input": [
      "print a"
     ],
     "language": "python",
     "metadata": {},
     "outputs": []
    },
    {
     "cell_type": "markdown",
     "metadata": {},
     "source": [
      "un \u00e9l\u00e9ment de l'array"
     ]
    },
    {
     "cell_type": "code",
     "collapsed": false,
     "input": [
      "print a[0, 0]"
     ],
     "language": "python",
     "metadata": {},
     "outputs": []
    },
    {
     "cell_type": "markdown",
     "metadata": {},
     "source": [
      "une ligne"
     ]
    },
    {
     "cell_type": "code",
     "collapsed": false,
     "input": [
      "print a[1, :] # peut s'abr\u00e9ger en a[1]"
     ],
     "language": "python",
     "metadata": {},
     "outputs": []
    },
    {
     "cell_type": "markdown",
     "metadata": {},
     "source": [
      "une colonne"
     ]
    },
    {
     "cell_type": "code",
     "collapsed": false,
     "input": [
      "print a[:, 1] "
     ],
     "language": "python",
     "metadata": {},
     "outputs": []
    },
    {
     "cell_type": "markdown",
     "metadata": {},
     "source": [
      "x:y defini un range de valeur compris entre les entiers x (inclus) et y (exclus)\n",
      "\n",
      ": seul signifie l'ensemble des valeurs existantes"
     ]
    },
    {
     "cell_type": "heading",
     "level": 5,
     "metadata": {},
     "source": [
      "Modifier un array numpy"
     ]
    },
    {
     "cell_type": "markdown",
     "metadata": {},
     "source": [
      "un \u00e9l\u00e9ment"
     ]
    },
    {
     "cell_type": "code",
     "collapsed": false,
     "input": [
      "a[0, 0] = 9\n",
      "print a"
     ],
     "language": "python",
     "metadata": {},
     "outputs": []
    },
    {
     "cell_type": "markdown",
     "metadata": {},
     "source": [
      "une ligne"
     ]
    },
    {
     "cell_type": "code",
     "collapsed": false,
     "input": [
      "a[1] = [7,8,9]\n",
      "print a"
     ],
     "language": "python",
     "metadata": {},
     "outputs": []
    },
    {
     "cell_type": "markdown",
     "metadata": {},
     "source": [
      "un colonne"
     ]
    },
    {
     "cell_type": "code",
     "collapsed": false,
     "input": [
      "a[:, 1] = [4,5]\n",
      "print a"
     ],
     "language": "python",
     "metadata": {},
     "outputs": []
    },
    {
     "cell_type": "heading",
     "level": 5,
     "metadata": {},
     "source": [
      "Stats"
     ]
    },
    {
     "cell_type": "markdown",
     "metadata": {},
     "source": [
      "somme des \u00e9l\u00e9ments"
     ]
    },
    {
     "cell_type": "code",
     "collapsed": false,
     "input": [
      "a.sum()"
     ],
     "language": "python",
     "metadata": {},
     "outputs": []
    },
    {
     "cell_type": "markdown",
     "metadata": {},
     "source": [
      "moyenne des \u00e9l\u00e9ments"
     ]
    },
    {
     "cell_type": "code",
     "collapsed": false,
     "input": [
      "a.mean()"
     ],
     "language": "python",
     "metadata": {},
     "outputs": []
    },
    {
     "cell_type": "markdown",
     "metadata": {},
     "source": [
      "somme des colonnes"
     ]
    },
    {
     "cell_type": "code",
     "collapsed": false,
     "input": [
      "a.sum(axis=0)"
     ],
     "language": "python",
     "metadata": {},
     "outputs": []
    },
    {
     "cell_type": "markdown",
     "metadata": {},
     "source": [
      "moyenne des lignes"
     ]
    },
    {
     "cell_type": "code",
     "collapsed": false,
     "input": [
      "a.mean(axis=1)"
     ],
     "language": "python",
     "metadata": {},
     "outputs": []
    },
    {
     "cell_type": "markdown",
     "metadata": {},
     "source": [
      "Pour aller plus loin, voir les tutoriaux ici :  https://scipy-lectures.github.io/"
     ]
    },
    {
     "cell_type": "heading",
     "level": 3,
     "metadata": {},
     "source": [
      "Matplotlib"
     ]
    },
    {
     "cell_type": "markdown",
     "metadata": {},
     "source": [
      "Une autre partie importante du machine learning est la visualisation des donn\u00e9es. Nous allons utiliser pour cela la librairie matplotlib. Il s'agit d'un package extr\u00eamement flexible , mais nous n'allons passer en revue que quelques notions de base ici. "
     ]
    },
    {
     "cell_type": "markdown",
     "metadata": {},
     "source": [
      "Dans un notebook ipython, nous pouvons activer le mode \"IPython inline\", qui fera apparaitre les graphiques en ligne dans le bloc-notes ."
     ]
    },
    {
     "cell_type": "code",
     "collapsed": false,
     "input": [
      "%matplotlib inline\n",
      "\n",
      "import matplotlib.pyplot as plt\n",
      "import numpy as np"
     ],
     "language": "python",
     "metadata": {},
     "outputs": []
    },
    {
     "cell_type": "markdown",
     "metadata": {},
     "source": [
      "Tracer une courbe"
     ]
    },
    {
     "cell_type": "code",
     "collapsed": false,
     "input": [
      "x = np.linspace(0, 10, 100)\n",
      "y = np.cos(x)\n",
      "plt.plot(x, y);"
     ],
     "language": "python",
     "metadata": {},
     "outputs": []
    },
    {
     "cell_type": "markdown",
     "metadata": {},
     "source": [
      "Tracer un nuage de points"
     ]
    },
    {
     "cell_type": "code",
     "collapsed": false,
     "input": [
      "x = np.random.normal(size=500)\n",
      "y = np.random.normal(size=500)\n",
      "plt.scatter(x, y);"
     ],
     "language": "python",
     "metadata": {},
     "outputs": []
    },
    {
     "cell_type": "markdown",
     "metadata": {},
     "source": [
      "Tracer un histogramme"
     ]
    },
    {
     "cell_type": "code",
     "collapsed": false,
     "input": [
      "mu = 100 # moyenne de la distribution\n",
      "sigma = 15 # d\u00e9viation standard de la distribution\n",
      "x = mu + sigma * np.random.randn(10000)\n",
      "plt.hist(x, bins=50);"
     ],
     "language": "python",
     "metadata": {},
     "outputs": []
    },
    {
     "cell_type": "markdown",
     "metadata": {},
     "source": [
      "Afficher une image"
     ]
    },
    {
     "cell_type": "code",
     "collapsed": false,
     "input": [
      "x = np.linspace(1, 12, 100)\n",
      "y = x[:, np.newaxis]\n",
      "\n",
      "im = y * np.sin(x) * np.cos(y)\n",
      "print(im.shape)"
     ],
     "language": "python",
     "metadata": {},
     "outputs": []
    },
    {
     "cell_type": "code",
     "collapsed": false,
     "input": [
      "# imshow - note that origin is at the top-left!\n",
      "plt.imshow(im);"
     ],
     "language": "python",
     "metadata": {},
     "outputs": []
    },
    {
     "cell_type": "code",
     "collapsed": false,
     "input": [
      "# Contour plot - note that origin here is at the bottom-left!\n",
      "plt.contour(im);"
     ],
     "language": "python",
     "metadata": {},
     "outputs": []
    },
    {
     "cell_type": "heading",
     "level": 5,
     "metadata": {},
     "source": [
      "3D"
     ]
    },
    {
     "cell_type": "markdown",
     "metadata": {},
     "source": [
      "Pour info, pas la peine d'essayer de comprendre le code ci-dessous"
     ]
    },
    {
     "cell_type": "code",
     "collapsed": false,
     "input": [
      "from mpl_toolkits.mplot3d import Axes3D\n",
      "ax = plt.axes(projection='3d')\n",
      "xgrid, ygrid = np.meshgrid(x, y.ravel())\n",
      "ax.plot_surface(xgrid, ygrid, im, cmap=plt.cm.jet, cstride=2, rstride=2, linewidth=0);"
     ],
     "language": "python",
     "metadata": {},
     "outputs": []
    },
    {
     "cell_type": "markdown",
     "metadata": {},
     "source": [
      "Il existe beaucoup plus de types de graphiques disponibles. Vous pouvez voir de nombreux exemples, ainsi que le code utilis\u00e9 pour les g\u00e9n\u00e9rer, ici: http://matplotlib.org/gallery.html"
     ]
    },
    {
     "cell_type": "markdown",
     "metadata": {},
     "source": [
      "Pour info, une librairie python recente permet de cr\u00e9er des graphiques interactifs (g\u00e9n\u00e9ration de code en D3.js) http://bokeh.pydata.org/"
     ]
    },
    {
     "cell_type": "heading",
     "level": 3,
     "metadata": {},
     "source": [
      "Pandas"
     ]
    },
    {
     "cell_type": "markdown",
     "metadata": {},
     "source": [
      "Numpy c'est sympa, mais c'est tr\u00e8s bas niveau et peu pratique pour manipuler des donn\u00e9es de types h\u00e9terog\u00e8nes.\n",
      "Dans la pratique, on va plut\u00f4t utilser une librairie comme Pandas http://pandas.pydata.org/ qui nous propose des structures de donn\u00e9es et des outils, facile \u00e0 utiliser, pour manipuler ce genre de donn\u00e9es en python."
     ]
    },
    {
     "cell_type": "markdown",
     "metadata": {},
     "source": [
      "pandas utilise numpy et matplotlib"
     ]
    },
    {
     "cell_type": "code",
     "collapsed": false,
     "input": [
      "import pandas as pd\n",
      "import numpy as np\n",
      "import matplotlib.pyplot as plt"
     ],
     "language": "python",
     "metadata": {},
     "outputs": []
    },
    {
     "cell_type": "heading",
     "level": 5,
     "metadata": {},
     "source": [
      "Series"
     ]
    },
    {
     "cell_type": "markdown",
     "metadata": {},
     "source": [
      "Une Series est un tableau \u00e0 une dimension (~un vecteur) de variables lab\u00e9lis\u00e9s de n'importe quel type (integers, strings, floating point numbers, Python objects, etc.). L'axe des labels d'une Series se nomme l'index."
     ]
    },
    {
     "cell_type": "markdown",
     "metadata": {},
     "source": [
      "Cr\u00e9er une Series (~un vecteur), pandas va cr\u00e9er un index par d\u00e9faut"
     ]
    },
    {
     "cell_type": "code",
     "collapsed": false,
     "input": [
      "s = pd.Series([1,3,5,np.nan,6,8])\n",
      "s"
     ],
     "language": "python",
     "metadata": {},
     "outputs": []
    },
    {
     "cell_type": "markdown",
     "metadata": {},
     "source": [
      "On peut \u00e9galement sp\u00e9cifier un index"
     ]
    },
    {
     "cell_type": "code",
     "collapsed": false,
     "input": [
      "s = pd.Series(np.random.randn(5), index=['a', 'b', 'c', 'd', 'e'])\n",
      "s"
     ],
     "language": "python",
     "metadata": {},
     "outputs": []
    },
    {
     "cell_type": "heading",
     "level": 5,
     "metadata": {},
     "source": [
      "DataFrame"
     ]
    },
    {
     "cell_type": "markdown",
     "metadata": {},
     "source": [
      "Un DataFrame est une structure de donn\u00e9es \u00e0 2 dimensions avec des colonnes lab\u00e9lis\u00e9es, potentiellement de diff\u00e9rents types. On peut voir un DataFrame comme une feuille de calcul, une table SQL, ou un dictionnaire d'objets Series."
     ]
    },
    {
     "cell_type": "markdown",
     "metadata": {},
     "source": [
      "Cr\u00e9er un DataFrame \u00e0 partir d'un array numpy"
     ]
    },
    {
     "cell_type": "code",
     "collapsed": false,
     "input": [
      "df = pd.DataFrame(np.random.randint(0, 10, (6,4)),index=('a', 'b', 'c', 'd', 'e', 'f'), columns=('A','B','C','D'))\n",
      "df"
     ],
     "language": "python",
     "metadata": {},
     "outputs": []
    },
    {
     "cell_type": "markdown",
     "metadata": {},
     "source": [
      "Cr\u00e9er un DataFrame \u00e0 partir d'un dictionnaire (~une map) d'objets pouvant \u00eatre interpr\u00e9t\u00e9s comme une Series."
     ]
    },
    {
     "cell_type": "code",
     "collapsed": false,
     "input": [
      "df2 = pd.DataFrame({ 'A' : 1.,\n",
      "                     'B' : pd.Timestamp('20130102'),\n",
      "                     'C' : pd.Series(1,index=list(range(4)),dtype='float32'),\n",
      "                     'D' : np.array([3] * 4,dtype='int32'),\n",
      "                     'E' : 'foo' })\n",
      "df2"
     ],
     "language": "python",
     "metadata": {},
     "outputs": []
    },
    {
     "cell_type": "code",
     "collapsed": false,
     "input": [
      "df2.dtypes"
     ],
     "language": "python",
     "metadata": {},
     "outputs": []
    },
    {
     "cell_type": "markdown",
     "metadata": {},
     "source": [
      "Cr\u00e9er un DataFrame en chargeant un fichier csv."
     ]
    },
    {
     "cell_type": "code",
     "collapsed": false,
     "input": [
      "data = pd.read_csv('titanic/train.csv')\n",
      "data.head()"
     ],
     "language": "python",
     "metadata": {},
     "outputs": []
    },
    {
     "cell_type": "markdown",
     "metadata": {},
     "source": [
      "Pour rappel"
     ]
    },
    {
     "cell_type": "code",
     "collapsed": false,
     "input": [
      "df"
     ],
     "language": "python",
     "metadata": {},
     "outputs": []
    },
    {
     "cell_type": "heading",
     "level": 5,
     "metadata": {},
     "source": [
      "Stats"
     ]
    },
    {
     "cell_type": "markdown",
     "metadata": {},
     "source": [
      "Describe permet d'afficher un r\u00e9sum\u00e9 des statistiques de vos donn\u00e9es"
     ]
    },
    {
     "cell_type": "code",
     "collapsed": false,
     "input": [
      "df.describe()"
     ],
     "language": "python",
     "metadata": {},
     "outputs": []
    },
    {
     "cell_type": "markdown",
     "metadata": {},
     "source": [
      "- count indique le nombre de c\u00e9llules non vides par colonnes\n",
      "- mean la moyenne  par colonnes\n",
      "- std la d\u00e9viation standard par colonnes\n",
      "- min le minimum par colonnes\n",
      "- 25% la valeur du 25\u00e8me centile par colonnes\n",
      "- 50% la m\u00e9diane par colonnes\n",
      "- 75% la valeur du 75\u00e8me centile par colonnes\n",
      "- max le maximum par colonnes"
     ]
    },
    {
     "cell_type": "heading",
     "level": 5,
     "metadata": {},
     "source": [
      "Metadata"
     ]
    },
    {
     "cell_type": "markdown",
     "metadata": {},
     "source": [
      "R\u00e9cup\u00e9rer l'index, les colonnes ou les donn\u00e9es sous forme d'array numpy"
     ]
    },
    {
     "cell_type": "code",
     "collapsed": false,
     "input": [
      "print df.index\n",
      "print df.columns\n",
      "print df.values"
     ],
     "language": "python",
     "metadata": {},
     "outputs": []
    },
    {
     "cell_type": "heading",
     "level": 5,
     "metadata": {},
     "source": [
      "Acc\u00e9der aux \u00e9l\u00e9ments d'un DataFrame"
     ]
    },
    {
     "cell_type": "markdown",
     "metadata": {},
     "source": [
      "un colonne sous forme de Series"
     ]
    },
    {
     "cell_type": "code",
     "collapsed": false,
     "input": [
      "df['A']"
     ],
     "language": "python",
     "metadata": {},
     "outputs": []
    },
    {
     "cell_type": "markdown",
     "metadata": {},
     "source": [
      "ou"
     ]
    },
    {
     "cell_type": "code",
     "collapsed": false,
     "input": [
      "df.A"
     ],
     "language": "python",
     "metadata": {},
     "outputs": []
    },
    {
     "cell_type": "markdown",
     "metadata": {},
     "source": [
      "S\u00e9l\u00e9ctionner des colonnes, sous forme d'un DataFrame"
     ]
    },
    {
     "cell_type": "code",
     "collapsed": false,
     "input": [
      "df[['A','C']]"
     ],
     "language": "python",
     "metadata": {},
     "outputs": []
    },
    {
     "cell_type": "markdown",
     "metadata": {},
     "source": [
      "ou"
     ]
    },
    {
     "cell_type": "code",
     "collapsed": false,
     "input": [
      "df.get(['A','C'])"
     ],
     "language": "python",
     "metadata": {},
     "outputs": []
    },
    {
     "cell_type": "heading",
     "level": 4,
     "metadata": {},
     "source": [
      "Selection par label"
     ]
    },
    {
     "cell_type": "markdown",
     "metadata": {},
     "source": [
      "la ligne ind\u00e9x\u00e9e par 'a' sous forme de Serie"
     ]
    },
    {
     "cell_type": "code",
     "collapsed": false,
     "input": [
      "df.loc['a']"
     ],
     "language": "python",
     "metadata": {},
     "outputs": []
    },
    {
     "cell_type": "markdown",
     "metadata": {},
     "source": [
      "toutes les lignes des colonnes 'A' et 'B' sous forme de DataFrame"
     ]
    },
    {
     "cell_type": "code",
     "collapsed": false,
     "input": [
      "df.loc[:,['A','B']] "
     ],
     "language": "python",
     "metadata": {},
     "outputs": []
    },
    {
     "cell_type": "markdown",
     "metadata": {},
     "source": [
      "les lignes index\u00e9es entre 'a' et 'c' des colonnes 'A' et 'B' sous forme de DataFrame \n",
      "attention ici les extremit\u00e9s des ranges sont incluses"
     ]
    },
    {
     "cell_type": "code",
     "collapsed": false,
     "input": [
      "df.loc['a':'c',['A','B']] "
     ],
     "language": "python",
     "metadata": {},
     "outputs": []
    },
    {
     "cell_type": "markdown",
     "metadata": {},
     "source": [
      "l'\u00e9l\u00e9ment index\u00e9 par 'a' de la colonne 'A'"
     ]
    },
    {
     "cell_type": "code",
     "collapsed": false,
     "input": [
      "df.loc['a','A'] "
     ],
     "language": "python",
     "metadata": {},
     "outputs": []
    },
    {
     "cell_type": "heading",
     "level": 4,
     "metadata": {},
     "source": [
      "Selection par position"
     ]
    },
    {
     "cell_type": "markdown",
     "metadata": {},
     "source": [
      "La quatri\u00e8me ligne"
     ]
    },
    {
     "cell_type": "code",
     "collapsed": false,
     "input": [
      "df.iloc[3]"
     ],
     "language": "python",
     "metadata": {},
     "outputs": []
    },
    {
     "cell_type": "markdown",
     "metadata": {},
     "source": [
      "C'est comme pour les arrays numpy basiquement"
     ]
    },
    {
     "cell_type": "code",
     "collapsed": false,
     "input": [
      "df.iloc[3:5,0:2]"
     ],
     "language": "python",
     "metadata": {},
     "outputs": []
    },
    {
     "cell_type": "markdown",
     "metadata": {},
     "source": [
      "La deuxi\u00e8me, troisi\u00e8me et quatri\u00e8me ligne de la premi\u00e8re et troisi\u00e8me colonne"
     ]
    },
    {
     "cell_type": "code",
     "collapsed": false,
     "input": [
      "df.iloc[[1,2,3],[0,2]]"
     ],
     "language": "python",
     "metadata": {},
     "outputs": []
    },
    {
     "cell_type": "markdown",
     "metadata": {},
     "source": [
      "La premi\u00e8re et deuxi\u00e8me ligne de la deuxi\u00e8me et troisi\u00e8me colonne"
     ]
    },
    {
     "cell_type": "code",
     "collapsed": false,
     "input": [
      "df.iloc[0:2,1:3]"
     ],
     "language": "python",
     "metadata": {},
     "outputs": []
    },
    {
     "cell_type": "markdown",
     "metadata": {},
     "source": [
      "L'\u00e9lement scalaire de la deuxi\u00e8me ligne, deuxi\u00e8me colonne"
     ]
    },
    {
     "cell_type": "code",
     "collapsed": false,
     "input": [
      "df.iloc[1,1]"
     ],
     "language": "python",
     "metadata": {},
     "outputs": []
    },
    {
     "cell_type": "heading",
     "level": 5,
     "metadata": {},
     "source": [
      "Boolean Indexing"
     ]
    },
    {
     "cell_type": "markdown",
     "metadata": {},
     "source": [
      "Cr\u00e9er une Series de type boolean \u00e0 l'aide d'une expression"
     ]
    },
    {
     "cell_type": "code",
     "collapsed": false,
     "input": [
      "df.A > 5"
     ],
     "language": "python",
     "metadata": {},
     "outputs": []
    },
    {
     "cell_type": "markdown",
     "metadata": {},
     "source": [
      "Selectionner les lignes d'un DataFrame grace au Boolean Indexing"
     ]
    },
    {
     "cell_type": "code",
     "collapsed": false,
     "input": [
      "df[df.A > 5]"
     ],
     "language": "python",
     "metadata": {},
     "outputs": []
    },
    {
     "cell_type": "heading",
     "level": 5,
     "metadata": {},
     "source": [
      "Modifier un DataFrame"
     ]
    },
    {
     "cell_type": "markdown",
     "metadata": {},
     "source": [
      "Ajouter une colonne"
     ]
    },
    {
     "cell_type": "code",
     "collapsed": false,
     "input": [
      "df['F'] = [1, 2, 3, 4, 5, 6]\n",
      "df"
     ],
     "language": "python",
     "metadata": {},
     "outputs": []
    },
    {
     "cell_type": "markdown",
     "metadata": {},
     "source": [
      "Classer un DataFrame selon une colonne"
     ]
    },
    {
     "cell_type": "code",
     "collapsed": false,
     "input": [
      "df.sort(columns='B')"
     ],
     "language": "python",
     "metadata": {},
     "outputs": []
    },
    {
     "cell_type": "heading",
     "level": 3,
     "metadata": {},
     "source": [
      "Un exemple simple : l'Iris Dataset"
     ]
    },
    {
     "cell_type": "markdown",
     "metadata": {},
     "source": [
      "Nous allons cr\u00e9er un mod\u00e8le \u00e0 partir d'un jeu de donn\u00e9es simple embarqu\u00e9 dans la librairie scikit-learn. \n",
      "Les donn\u00e9es se composent des mesures des caracterisitiques de trois esp\u00e8ces diff\u00e9rentes d'iris. Observons tout d'abord ces trois esp\u00e8ces :"
     ]
    },
    {
     "cell_type": "code",
     "collapsed": false,
     "input": [
      "from IPython.core.display import Image, display\n",
      "display(Image(filename='images/iris_setosa.jpg'))\n",
      "print \"Iris Setosa\\n\"\n",
      "\n",
      "display(Image(filename='images/iris_versicolor.jpg'))\n",
      "print \"Iris Versicolor\\n\"\n",
      "\n",
      "display(Image(filename='images/iris_virginica.jpg'))\n",
      "print \"Iris Virginica\""
     ],
     "language": "python",
     "metadata": {},
     "outputs": []
    },
    {
     "cell_type": "markdown",
     "metadata": {},
     "source": [
      "Scikit-learn embarque ce jeu de donn\u00e9es et proposents des fonctions pour charger celles-ci dans des tableaux numpy.\n",
      "Les donn\u00e9es:\n",
      "\n",
      "- Les features de l'Iris dataset:\n",
      "\n",
      "  1. longueur d'un s\u00e9pale en cm\n",
      "  2. largeur d'un s\u00e9pale en cm\n",
      "  3. longueur d'un p\u00e9tale en cm\n",
      "  4. largeur d'un p\u00e9tale en cm\n",
      "\n",
      "\n",
      "- Les classes qu'il faudra pr\u00e9dire:\n",
      "\n",
      "  1. Iris Setosa\n",
      "  2. Iris Versicolour\n",
      "  3. Iris Virginica"
     ]
    },
    {
     "cell_type": "code",
     "collapsed": false,
     "input": [
      "from sklearn.datasets import load_iris\n",
      "iris = load_iris()"
     ],
     "language": "python",
     "metadata": {},
     "outputs": []
    },
    {
     "cell_type": "markdown",
     "metadata": {},
     "source": [
      "iris est un objet de type Bunch (sp\u00e9cifique aux jeux de donn\u00e9es dans scikit-learn).\n",
      "Observons ses attributs \u00e0 l'aide de la m\u00e9thode keys()."
     ]
    },
    {
     "cell_type": "code",
     "collapsed": false,
     "input": [
      "iris.keys()"
     ],
     "language": "python",
     "metadata": {},
     "outputs": []
    },
    {
     "cell_type": "markdown",
     "metadata": {},
     "source": [
      "Les features de chaque fleurs de notre jeu d'entrainement sont stock\u00e9es dans l'attribut data de notre dataset:"
     ]
    },
    {
     "cell_type": "code",
     "collapsed": false,
     "input": [
      "n_samples, n_features = iris.data.shape\n",
      "print n_samples\n",
      "print n_features\n",
      "print iris.data[0]"
     ],
     "language": "python",
     "metadata": {},
     "outputs": []
    },
    {
     "cell_type": "markdown",
     "metadata": {},
     "source": [
      "Le type d'iris de chaque fleurs de notre jeu d'entrainement est stock\u00e9 dans l'attribut target de notre dataset:"
     ]
    },
    {
     "cell_type": "code",
     "collapsed": false,
     "input": [
      "print iris.target.shape\n",
      "print iris.target"
     ],
     "language": "python",
     "metadata": {},
     "outputs": []
    },
    {
     "cell_type": "markdown",
     "metadata": {},
     "source": [
      "Les noms des classes correspondantes sont dans l'attribut target_names:"
     ]
    },
    {
     "cell_type": "code",
     "collapsed": false,
     "input": [
      "print iris.target_names"
     ],
     "language": "python",
     "metadata": {},
     "outputs": []
    },
    {
     "cell_type": "markdown",
     "metadata": {},
     "source": [
      "Observons les donn\u00e9es en utilisant uniquement deux features de notre dataset:"
     ]
    },
    {
     "cell_type": "code",
     "collapsed": false,
     "input": [
      "x_index = 0\n",
      "y_index = 1\n",
      "plt.scatter(iris.data[:, x_index], iris.data[:, y_index], c=iris.target)\n",
      "plt.xlabel(iris.feature_names[x_index])\n",
      "plt.ylabel(iris.feature_names[y_index])"
     ],
     "language": "python",
     "metadata": {},
     "outputs": []
    },
    {
     "cell_type": "markdown",
     "metadata": {},
     "source": [
      "Cr\u00e9ons un mod\u00e8le sur ce jeu de donn\u00e9es \u00e0 l'aide d'un algorithme simple Le K Nearest Neighbors \n",
      "http://scikit-learn.org/stable/modules/neighbors.html"
     ]
    },
    {
     "cell_type": "code",
     "collapsed": false,
     "input": [
      "from sklearn.neighbors import KNeighborsClassifier\n",
      "X, y = iris.data, iris.target\n",
      "knn = KNeighborsClassifier(n_neighbors=3)\n",
      "knn.fit(X, y)"
     ],
     "language": "python",
     "metadata": {},
     "outputs": []
    },
    {
     "cell_type": "markdown",
     "metadata": {},
     "source": [
      "Quel est le type d'une iris qui a des sepales de 3cm x 5cm et des p\u00e9tales de 4cm x 2 cm selon notre mod\u00e8le?"
     ]
    },
    {
     "cell_type": "code",
     "collapsed": false,
     "input": [
      "print iris.target_names[knn.predict([[3, 5, 4, 2]])]"
     ],
     "language": "python",
     "metadata": {},
     "outputs": []
    },
    {
     "cell_type": "heading",
     "level": 3,
     "metadata": {},
     "source": [
      "Titanic"
     ]
    },
    {
     "cell_type": "markdown",
     "metadata": {},
     "source": [
      "Let us have a look at the Titanic dataset from the Kaggle Getting Started challenge at:\n",
      "https://www.kaggle.com/c/titanic-gettingStarted\n",
      "We can load the CSV file as a pandas data frame in one line:"
     ]
    },
    {
     "cell_type": "code",
     "collapsed": false,
     "input": [
      "data = pd.read_csv('titanic/train.csv')"
     ],
     "language": "python",
     "metadata": {},
     "outputs": []
    },
    {
     "cell_type": "markdown",
     "metadata": {},
     "source": [
      "pandas data frames have a HTML table representation in the IPython notebook. Let's have a look at the first 5 rows:"
     ]
    },
    {
     "cell_type": "code",
     "collapsed": false,
     "input": [
      "data.head(5)"
     ],
     "language": "python",
     "metadata": {},
     "outputs": []
    },
    {
     "cell_type": "markdown",
     "metadata": {},
     "source": [
      "The meaning of the columns is explained on the challenge website:\n",
      "https://www.kaggle.com/c/titanic-gettingStarted/data"
     ]
    },
    {
     "cell_type": "code",
     "collapsed": false,
     "input": [
      "list(data.columns)"
     ],
     "language": "python",
     "metadata": {},
     "outputs": []
    },
    {
     "cell_type": "markdown",
     "metadata": {},
     "source": [
      "The data frame has 891 rows. Some passengers have missing information though: in particular Age and Cabin info can be missing. "
     ]
    },
    {
     "cell_type": "code",
     "collapsed": false,
     "input": [
      "data.count()"
     ],
     "language": "python",
     "metadata": {},
     "outputs": []
    },
    {
     "cell_type": "markdown",
     "metadata": {},
     "source": [
      "A data frame can be converted into a numpy array by calling the values attribute:"
     ]
    },
    {
     "cell_type": "code",
     "collapsed": false,
     "input": [
      "data.values"
     ],
     "language": "python",
     "metadata": {},
     "outputs": []
    },
    {
     "cell_type": "markdown",
     "metadata": {},
     "source": [
      "However this cannot be directly fed to a scikit-learn model:\n",
      "\n",
      "\n",
      "- the target variable (survival) is mixed with the input data\n",
      "\n",
      "- some attribute such as unique ids have no predictive values for the task\n",
      "\n",
      "- the values are heterogeneous (string labels for categories, integers and floating point numbers)\n",
      "\n",
      "- some attribute values are missing (nan: \"not a number\")"
     ]
    },
    {
     "cell_type": "code",
     "collapsed": false,
     "input": [
      "np.mean(data['Survived'] == 0)"
     ],
     "language": "python",
     "metadata": {},
     "outputs": []
    },
    {
     "cell_type": "markdown",
     "metadata": {},
     "source": [
      "From this the subset of the full passengers list, about 2/3 perished in the event. So if we are to build a predictive model from this data, a baseline model to compare the performance to would be to always predict death. Such a constant model would reach around 62% predictive accuracy (which is higher than predicting at random):"
     ]
    },
    {
     "cell_type": "markdown",
     "metadata": {},
     "source": [
      "pandas `Series` instances can be converted to regular 1D numpy arrays by using the `values` attribute:"
     ]
    },
    {
     "cell_type": "code",
     "collapsed": false,
     "input": [
      "y = data['Survived'].values"
     ],
     "language": "python",
     "metadata": {},
     "outputs": []
    },
    {
     "cell_type": "heading",
     "level": 3,
     "metadata": {},
     "source": [
      "Training a predictive model on numerical features"
     ]
    },
    {
     "cell_type": "markdown",
     "metadata": {},
     "source": [
      "`sklearn` estimators all work with homegeneous numerical feature descriptors passed as a numpy array. Therefore passing the raw data frame will not work out of the box.\n",
      "\n",
      "Let us start simple and build a first model that only uses readily available numerical features as input, namely `data.Fare`, `data.Pclass` and `data.Age`."
     ]
    },
    {
     "cell_type": "code",
     "collapsed": false,
     "input": [
      "numerical_features = data.get(['Fare', 'Pclass', 'Age'])\n",
      "numerical_features.head(5)"
     ],
     "language": "python",
     "metadata": {},
     "outputs": []
    },
    {
     "cell_type": "markdown",
     "metadata": {},
     "source": [
      "Unfortunately some passengers do not have age information:"
     ]
    },
    {
     "cell_type": "code",
     "collapsed": false,
     "input": [
      "numerical_features.count()"
     ],
     "language": "python",
     "metadata": {},
     "outputs": []
    },
    {
     "cell_type": "markdown",
     "metadata": {},
     "source": [
      "Let's use pandas fillna method to input the median age for those passengers:"
     ]
    },
    {
     "cell_type": "code",
     "collapsed": false,
     "input": [
      "median_features = numerical_features.dropna().median()\n",
      "median_features"
     ],
     "language": "python",
     "metadata": {},
     "outputs": []
    },
    {
     "cell_type": "code",
     "collapsed": false,
     "input": [
      "imputed_features = numerical_features.fillna(median_features)\n",
      "imputed_features.count()"
     ],
     "language": "python",
     "metadata": {},
     "outputs": []
    },
    {
     "cell_type": "code",
     "collapsed": false,
     "input": [
      "imputed_features.count()"
     ],
     "language": "python",
     "metadata": {},
     "outputs": []
    },
    {
     "cell_type": "markdown",
     "metadata": {},
     "source": [
      "Now that the data frame is clean, we can convert it into an homogeneous numpy array of floating point values:"
     ]
    },
    {
     "cell_type": "code",
     "collapsed": false,
     "input": [
      "features_array = imputed_features.values\n",
      "features_array"
     ],
     "language": "python",
     "metadata": {},
     "outputs": []
    },
    {
     "cell_type": "code",
     "collapsed": false,
     "input": [
      "features_array.dtype"
     ],
     "language": "python",
     "metadata": {},
     "outputs": []
    },
    {
     "cell_type": "markdown",
     "metadata": {},
     "source": [
      "Let's take the 80% of the data for training a first model and keep 20% for computing is generalization score:"
     ]
    },
    {
     "cell_type": "code",
     "collapsed": false,
     "input": [
      "from sklearn.cross_validation import train_test_split\n",
      "\n",
      "features_train, features_test, target_train, target_test = train_test_split(\n",
      "    features_array, y, test_size=0.20, random_state=0)"
     ],
     "language": "python",
     "metadata": {},
     "outputs": []
    },
    {
     "cell_type": "code",
     "collapsed": false,
     "input": [
      "features_train.shape"
     ],
     "language": "python",
     "metadata": {},
     "outputs": []
    },
    {
     "cell_type": "code",
     "collapsed": false,
     "input": [
      "features_test.shape"
     ],
     "language": "python",
     "metadata": {},
     "outputs": []
    },
    {
     "cell_type": "code",
     "collapsed": false,
     "input": [
      "target_train.shape"
     ],
     "language": "python",
     "metadata": {},
     "outputs": []
    },
    {
     "cell_type": "code",
     "collapsed": false,
     "input": [
      "target_test.shape"
     ],
     "language": "python",
     "metadata": {},
     "outputs": []
    },
    {
     "cell_type": "markdown",
     "metadata": {},
     "source": [
      "Let's start with a simple model from sklearn, namely `LogisticRegression`:"
     ]
    },
    {
     "cell_type": "code",
     "collapsed": false,
     "input": [
      "from sklearn.linear_model import LogisticRegression\n",
      "\n",
      "logreg = LogisticRegression()\n",
      "logreg.fit(features_train, target_train)"
     ],
     "language": "python",
     "metadata": {},
     "outputs": []
    },
    {
     "cell_type": "code",
     "collapsed": false,
     "input": [
      "target_predicted = logreg.predict(features_test)"
     ],
     "language": "python",
     "metadata": {},
     "outputs": []
    },
    {
     "cell_type": "code",
     "collapsed": false,
     "input": [
      "logreg.score(features_test, target_test)"
     ],
     "language": "python",
     "metadata": {},
     "outputs": []
    },
    {
     "cell_type": "markdown",
     "metadata": {},
     "source": [
      "This first model has around 73% accuracy: this is better than our baseline that always predicts death."
     ]
    },
    {
     "cell_type": "heading",
     "level": 2,
     "metadata": {},
     "source": [
      "A vous de jouer"
     ]
    },
    {
     "cell_type": "code",
     "collapsed": false,
     "input": [],
     "language": "python",
     "metadata": {},
     "outputs": []
    }
   ],
   "metadata": {}
  }
 ]
}